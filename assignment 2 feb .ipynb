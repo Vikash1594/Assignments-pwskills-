{
 "cells": [
  {
   "cell_type": "markdown",
   "id": "35520b6b-6211-4efc-aa68-fda53fa83139",
   "metadata": {},
   "source": [
    "## Q1. What are the characteristics of the tuples? Is tuple immutable? \n",
    "Answer: Characteristics of Tuples\n",
    "They are indexed.\n",
    "Tuples are ordered.\n",
    "These are immutable.\n",
    "They can contain duplicate items.\n",
    "\n",
    "Yes tuples are immutable\n"
   ]
  },
  {
   "cell_type": "markdown",
   "id": "540c16c0-26fe-4ea1-9858-c153e62d5bbd",
   "metadata": {},
   "source": [
    "## Q2. What are the two tuple methods in python? Give an example of each method. Give a reason why  tuples have only two in-built methods as compared to Lists.\n",
    "\n",
    "Answer: count,index\n",
    "Tuples have only two inbuilt functions because elements of tuple are immutable.\n",
    "           \n"
   ]
  },
  {
   "cell_type": "markdown",
   "id": "204d3c51-cde7-436a-a2e3-2df791677110",
   "metadata": {},
   "source": [
    "## Q3.  Which collection datatypes in python do not allow duplicate items? Write a code using a set to remove  duplicates from the given list. \n",
    "List = [1, 1, 1, 2, 1, 3, 1, 4, 2, 1, 2, 2, 2, 3, 2, 4, 3, 1, 3, 2, 3, 3, 3, 4, 4, 1, 4, 2, 4, 3, 4, 4] \n"
   ]
  },
  {
   "cell_type": "code",
   "execution_count": 2,
   "id": "2e63e63e-c408-4404-b2a5-03b6279e30d5",
   "metadata": {},
   "outputs": [],
   "source": [
    "## Answer: “set” is a datatype which do not allow duplicate items.\n",
    "## Code to remove duplicate items from list:\n",
    "List = [1, 1, 1, 2, 1, 3, 1, 4, 2, 1, 2, 2, 2, 3, 2, 4, 3, 1, 3, 2, 3, 3, 3, 4, 4, 1, 4, 2, 4, 3, 4, 4]\n",
    "a=set(List) \n"
   ]
  },
  {
   "cell_type": "code",
   "execution_count": 5,
   "id": "fc0cfa80-bca8-400d-95ea-2d0e11a64690",
   "metadata": {},
   "outputs": [
    {
     "data": {
      "text/plain": [
       "{1, 2, 3, 4}"
      ]
     },
     "execution_count": 5,
     "metadata": {},
     "output_type": "execute_result"
    }
   ],
   "source": [
    "a"
   ]
  },
  {
   "cell_type": "markdown",
   "id": "ce71e2ab-1913-4590-bdd2-516517af98f5",
   "metadata": {},
   "source": [
    "## Q4. Explain the difference between the union() and update() methods for a set. Give an example of  each method. \n"
   ]
  },
  {
   "cell_type": "markdown",
   "id": "d9f27b3a-9726-4d4e-9b74-07c942611018",
   "metadata": {},
   "source": [
    "Answer: update() adds all missing elements to the set on which it is called whereas set. union() creates a new set\n"
   ]
  },
  {
   "cell_type": "markdown",
   "id": "9b7ef80a-8d42-4957-8e09-7b8ab4dc5a32",
   "metadata": {},
   "source": [
    "## Q5. What is a dictionary? Give an example. Also, state whether a dictionary is ordered or unordered.\n",
    "\n",
    "ANSWER: Dictionary is datatype in python where we where we assign various value for their respective keys.\n",
    "Dictionaries are ordered \n"
   ]
  },
  {
   "cell_type": "markdown",
   "id": "576d6689-5e57-4856-b00d-89c37b5771cb",
   "metadata": {},
   "source": [
    "## Q6. Can we create a nested dictionary? If so, please give an example by creating a simple one-level  nested dictionary. \n"
   ]
  },
  {
   "cell_type": "code",
   "execution_count": 6,
   "id": "f979b843-28df-4422-8d92-84cfa1970125",
   "metadata": {},
   "outputs": [],
   "source": [
    "##Answer: yes ,we can create nested dictionary.\n",
    "#Example:  \n",
    "dic= {\"key\":{\"key1\":\"value 1\",\"key2\":\"value2\"}}\n"
   ]
  },
  {
   "cell_type": "code",
   "execution_count": 7,
   "id": "287ff9b1-cdac-4676-88be-07d64b7f3c13",
   "metadata": {},
   "outputs": [
    {
     "data": {
      "text/plain": [
       "{'key': {'key1': 'value 1', 'key2': 'value2'}}"
      ]
     },
     "execution_count": 7,
     "metadata": {},
     "output_type": "execute_result"
    }
   ],
   "source": [
    "dic"
   ]
  },
  {
   "cell_type": "markdown",
   "id": "1870674b-30bf-4acf-9811-e296faf46e53",
   "metadata": {},
   "source": [
    "## Q7. Using setdefault() method, create key named topics in the given dictionary and also add the value of  the key as this  \n",
    "list ['Python', 'Machine Learning’, 'Deep Learning'] \n",
    "dict1 = {'language' : 'Python', 'course': 'Data Science Masters'} \n"
   ]
  },
  {
   "cell_type": "code",
   "execution_count": 8,
   "id": "7f5ec182-bc98-4182-828b-3119d95822cf",
   "metadata": {},
   "outputs": [],
   "source": [
    "dict1 = {'language' : 'Python', 'course': 'Data Science Masters'} "
   ]
  },
  {
   "cell_type": "code",
   "execution_count": 9,
   "id": "313c4b0d-2430-48b6-824e-a8e948b7de85",
   "metadata": {},
   "outputs": [
    {
     "data": {
      "text/plain": [
       "('python', 'machinelearning', 'deeplearning')"
      ]
     },
     "execution_count": 9,
     "metadata": {},
     "output_type": "execute_result"
    }
   ],
   "source": [
    "dict1.setdefault(\"topic1\",\"python\"),dict1.setdefault(\"topic2\",\"machinelearning\"),dict1.setdefault(\"topic3\",\"deeplearning\")\n"
   ]
  },
  {
   "cell_type": "code",
   "execution_count": 10,
   "id": "a2979d43-f7bf-42bf-b98e-7415070c49e7",
   "metadata": {},
   "outputs": [
    {
     "data": {
      "text/plain": [
       "{'language': 'Python',\n",
       " 'course': 'Data Science Masters',\n",
       " 'topic1': 'python',\n",
       " 'topic2': 'machinelearning',\n",
       " 'topic3': 'deeplearning'}"
      ]
     },
     "execution_count": 10,
     "metadata": {},
     "output_type": "execute_result"
    }
   ],
   "source": [
    "dict1"
   ]
  },
  {
   "cell_type": "markdown",
   "id": "929ce742-774b-46bd-8543-70421c03a254",
   "metadata": {},
   "source": [
    "## Q8. What are the three view objects in dictionaries? Use the three in-built methods in python to display  these three view objects for the given dictionary. \n",
    "dict1 = {'Sport': 'Cricket' , 'Teams': ['India', 'Australia', 'England', 'South Africa', 'Sri Lanka', 'New Zealand']} \n",
    "\n"
   ]
  },
  {
   "cell_type": "markdown",
   "id": "29131d7d-7c72-41bb-8791-54cbf9cab74d",
   "metadata": {},
   "source": [
    "answer: The main view objects of dictionary in python are keys, values and items\n"
   ]
  },
  {
   "cell_type": "code",
   "execution_count": 13,
   "id": "e682a546-a747-45b8-af10-113a1c6528e7",
   "metadata": {},
   "outputs": [],
   "source": [
    "dict1 = {'Sport': 'Cricket' , 'Teams': ['India', 'Australia', 'England', 'South Africa', 'Sri Lanka', 'New Zealand']} "
   ]
  },
  {
   "cell_type": "code",
   "execution_count": 16,
   "id": "680e54c5-8b6d-4cf3-82af-5456041a9756",
   "metadata": {},
   "outputs": [
    {
     "data": {
      "text/plain": [
       "dict_keys(['Sport', 'Teams'])"
      ]
     },
     "execution_count": 16,
     "metadata": {},
     "output_type": "execute_result"
    }
   ],
   "source": [
    "dict1.keys()"
   ]
  },
  {
   "cell_type": "code",
   "execution_count": 17,
   "id": "b94f145a-bf7d-4c49-8d49-b56bafed3ff6",
   "metadata": {},
   "outputs": [
    {
     "data": {
      "text/plain": [
       "dict_values(['Cricket', ['India', 'Australia', 'England', 'South Africa', 'Sri Lanka', 'New Zealand']])"
      ]
     },
     "execution_count": 17,
     "metadata": {},
     "output_type": "execute_result"
    }
   ],
   "source": [
    "dict1.values()"
   ]
  },
  {
   "cell_type": "code",
   "execution_count": null,
   "id": "bc67d237-cfae-4eab-ab38-11dab7534e68",
   "metadata": {},
   "outputs": [],
   "source": [
    "dict1."
   ]
  }
 ],
 "metadata": {
  "kernelspec": {
   "display_name": "Python 3 (ipykernel)",
   "language": "python",
   "name": "python3"
  },
  "language_info": {
   "codemirror_mode": {
    "name": "ipython",
    "version": 3
   },
   "file_extension": ".py",
   "mimetype": "text/x-python",
   "name": "python",
   "nbconvert_exporter": "python",
   "pygments_lexer": "ipython3",
   "version": "3.10.8"
  }
 },
 "nbformat": 4,
 "nbformat_minor": 5
}
