{
 "cells": [
  {
   "cell_type": "markdown",
   "id": "799b0eb1-d896-4933-9ba2-3a8857cf5736",
   "metadata": {},
   "source": [
    "Q1 . Which keyword is used to create a function? Create a function to return a list of odd numbers in the  range of 1 to 25. "
   ]
  },
  {
   "cell_type": "markdown",
   "id": "abbb6eb9-5e5b-4510-9ca2-53c101f5f95f",
   "metadata": {},
   "source": [
    "answer : keyword = \"def\""
   ]
  },
  {
   "cell_type": "code",
   "execution_count": 55,
   "id": "c161b4ea-edf4-4680-8524-ee03ba3515f6",
   "metadata": {},
   "outputs": [],
   "source": [
    "def test1():\n",
    "    a=[]\n",
    "    for i in range(1,25):\n",
    "        if i%2==1:\n",
    "            a.append(i)\n",
    "    return a\n",
    "        "
   ]
  },
  {
   "cell_type": "code",
   "execution_count": 56,
   "id": "8a7801af-b98c-43bd-ad9a-463e385c2d47",
   "metadata": {},
   "outputs": [
    {
     "data": {
      "text/plain": [
       "[1, 3, 5, 7, 9, 11, 13, 15, 17, 19, 21, 23]"
      ]
     },
     "execution_count": 56,
     "metadata": {},
     "output_type": "execute_result"
    }
   ],
   "source": [
    "test1()"
   ]
  },
  {
   "cell_type": "markdown",
   "id": "e0667192-3e5f-4667-9561-e86b9230393d",
   "metadata": {},
   "source": [
    "Q2. Why *args and **kwargs is used in some functions? Create a function each for *args and **kwargs to  demonstrate their use. \n"
   ]
  },
  {
   "cell_type": "markdown",
   "id": "b6a26c9f-92fb-48f1-b97c-6c696fbaf05a",
   "metadata": {},
   "source": [
    "ANSWER: we use *args and **kwargs when we are unsure about the number of arguments to pass in the function"
   ]
  },
  {
   "cell_type": "code",
   "execution_count": 61,
   "id": "cfcdaba7-569e-4918-abfe-29425f471592",
   "metadata": {},
   "outputs": [],
   "source": [
    "def test2(*args):\n",
    "    return args"
   ]
  },
  {
   "cell_type": "code",
   "execution_count": 63,
   "id": "cb5d0479-928a-46ff-990d-6c3a6ff32b93",
   "metadata": {},
   "outputs": [
    {
     "data": {
      "text/plain": [
       "(1, 2, 3, 4, 5, 6, 7)"
      ]
     },
     "execution_count": 63,
     "metadata": {},
     "output_type": "execute_result"
    }
   ],
   "source": [
    "test2(1,2,3,4,5,6,7)"
   ]
  },
  {
   "cell_type": "code",
   "execution_count": 64,
   "id": "887ec910-0b0f-48c0-b6db-6b0df6a3a6f7",
   "metadata": {},
   "outputs": [],
   "source": [
    "def test8(**vikash):\n",
    "    return vikash"
   ]
  },
  {
   "cell_type": "code",
   "execution_count": 65,
   "id": "3b40f659-a6b5-41ad-ac0c-46f9affd0e96",
   "metadata": {},
   "outputs": [
    {
     "data": {
      "text/plain": [
       "{'a': 35, 'b': 46, 'c': [1, 2, 3, 4], 'd': ('vikash', 'mandal')}"
      ]
     },
     "execution_count": 65,
     "metadata": {},
     "output_type": "execute_result"
    }
   ],
   "source": [
    "test8(a= 35,b= 46,c=[1,2,3,4],d=(\"vikash\",\"mandal\"))"
   ]
  },
  {
   "cell_type": "markdown",
   "id": "4b5290b9-2ffd-43be-a77e-0ed8a5683bb1",
   "metadata": {},
   "source": [
    "Q. What is an iterator in python? Name the method used to initialise the iterator object and the method  used for iteration. Use these methods to print the first five elements of the given list [2, 4, 6, 8, 10, 12, 14, 16,  18, 20]. \n"
   ]
  },
  {
   "cell_type": "markdown",
   "id": "0803bdc7-73fb-4f88-8a2a-5d64a40f1c4e",
   "metadata": {},
   "source": [
    "answer: In Python, an iterator is an object that allows you to iterate over collections of data, such as lists, tuples, dictionaries, and sets.\n",
    "Iter() method is used to initialize the iterator object so that the instance of this object can be used for iterating."
   ]
  },
  {
   "cell_type": "code",
   "execution_count": 9,
   "id": "9e0ae5c8-ac1d-43b8-84d8-76c7b3d3cabf",
   "metadata": {},
   "outputs": [],
   "source": [
    " lst = [2, 4, 6, 8, 10, 12, 14, 16,  18, 20]\n"
   ]
  },
  {
   "cell_type": "code",
   "execution_count": 43,
   "id": "1c430953-6158-4403-b32d-6d7390f6a205",
   "metadata": {},
   "outputs": [],
   "source": [
    "ier = iter(lst)"
   ]
  },
  {
   "cell_type": "code",
   "execution_count": 44,
   "id": "ebded130-7bab-4fbf-8fee-3017baff7916",
   "metadata": {},
   "outputs": [
    {
     "name": "stdout",
     "output_type": "stream",
     "text": [
      "2\n",
      "4\n",
      "6\n",
      "8\n",
      "10\n"
     ]
    }
   ],
   "source": [
    "print(next(ier))\n",
    "print(next(ier))\n",
    "print(next(ier))\n",
    "print(next(ier))\n",
    "print(next(ier))"
   ]
  },
  {
   "cell_type": "markdown",
   "id": "828eb3c5-2fdf-450b-9ba2-080a17a05239",
   "metadata": {},
   "source": [
    "Q4.  What is a generator function in python? Why yield keyword is used? Give an example of a generator  function. \n"
   ]
  },
  {
   "cell_type": "markdown",
   "id": "9d725a8e-6615-42f1-83b4-2ebdbc5274ad",
   "metadata": {},
   "source": [
    "Answer: A function that returns an iterator that produces a sequence of values when iterated over"
   ]
  },
  {
   "cell_type": "markdown",
   "id": "47d8e81c-21d6-4f7e-a1d2-53e4c4d7992f",
   "metadata": {},
   "source": [
    "the yield keyword will convert an expression that is specified along with it to a generator object and return it to the caller. Hence, if you want to get the values stored inside the generator object, you need to iterate over it."
   ]
  },
  {
   "cell_type": "code",
   "execution_count": 62,
   "id": "78be095a-4f82-40e5-8567-bc39c8d02309",
   "metadata": {},
   "outputs": [
    {
     "name": "stdout",
     "output_type": "stream",
     "text": [
      "0\n",
      "1\n",
      "4\n",
      "9\n",
      "16\n"
     ]
    }
   ],
   "source": [
    "squares_generator = (i * i for i in range(5))\n",
    "\n",
    "# iterate over the generator and print the values\n",
    "for i in squares_generator:\n",
    "    print(i)"
   ]
  },
  {
   "cell_type": "markdown",
   "id": "2086f8a9-4c7c-4492-ad0b-19b2dc0b496d",
   "metadata": {},
   "source": [
    " Create a generator function for prime numbers less than 1000. Use the next() method to print the  first 20 prime numbers. \n"
   ]
  },
  {
   "cell_type": "code",
   "execution_count": null,
   "id": "8518c25f-c36d-405f-af7e-5a12bea7b027",
   "metadata": {},
   "outputs": [],
   "source": []
  }
 ],
 "metadata": {
  "kernelspec": {
   "display_name": "Python 3 (ipykernel)",
   "language": "python",
   "name": "python3"
  },
  "language_info": {
   "codemirror_mode": {
    "name": "ipython",
    "version": 3
   },
   "file_extension": ".py",
   "mimetype": "text/x-python",
   "name": "python",
   "nbconvert_exporter": "python",
   "pygments_lexer": "ipython3",
   "version": "3.10.8"
  }
 },
 "nbformat": 4,
 "nbformat_minor": 5
}
